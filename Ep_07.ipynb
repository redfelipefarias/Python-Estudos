{
  "nbformat": 4,
  "nbformat_minor": 0,
  "metadata": {
    "colab": {
      "provenance": [],
      "authorship_tag": "ABX9TyPbJDW4ITIdBaBZp3SKDoaC",
      "include_colab_link": true
    },
    "kernelspec": {
      "name": "python3",
      "display_name": "Python 3"
    },
    "language_info": {
      "name": "python"
    }
  },
  "cells": [
    {
      "cell_type": "markdown",
      "metadata": {
        "id": "view-in-github",
        "colab_type": "text"
      },
      "source": [
        "<a href=\"https://colab.research.google.com/github/redfelipefarias/Python-Estudos/blob/main/Ep_07.ipynb\" target=\"_parent\"><img src=\"https://colab.research.google.com/assets/colab-badge.svg\" alt=\"Open In Colab\"/></a>"
      ]
    },
    {
      "cell_type": "code",
      "execution_count": 2,
      "metadata": {
        "colab": {
          "base_uri": "https://localhost:8080/"
        },
        "id": "b6VJOOBaqu58",
        "outputId": "4c018ac7-9832-4d42-ab91-271bdf36d7e8"
      },
      "outputs": [
        {
          "output_type": "stream",
          "name": "stdout",
          "text": [
            "Digite seu Nome: Lucas\n",
            "Digite seu Sobremone: Farias\n",
            "Seu nome e sobrenome é Lucas Farias\n",
            "Digite o nome da sua EmpresaL.I\n",
            "Digite seu NomeLucas\n",
            "O nome da sua Empresa éL.I e seu nome é Lucas\n"
          ]
        }
      ],
      "source": [
        "# Aula - Ep. #07 - Mini Curso de #IP\n",
        "# Função Input()\n",
        "\n",
        "nome = input('Digite seu Nome: ')\n",
        "sobrenome = input('Digite seu Sobremone: ')\n",
        "print(f'Seu nome e sobrenome é {nome} {sobrenome}')\n",
        "\n",
        "nEmpresa = input('Digite o nome da sua Empresa')\n",
        "seuNome = input('Digite seu Nome')\n",
        "print(f'O nome da sua Empresa é {nEmpresa} e seu nome é {seuNome}')"
      ]
    }
  ]
}