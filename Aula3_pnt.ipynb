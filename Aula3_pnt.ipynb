{
  "nbformat": 4,
  "nbformat_minor": 0,
  "metadata": {
    "colab": {
      "provenance": [],
      "authorship_tag": "ABX9TyOP/dXKirgYd0MnqnI6G0Xb",
      "include_colab_link": true
    },
    "kernelspec": {
      "name": "python3",
      "display_name": "Python 3"
    },
    "language_info": {
      "name": "python"
    }
  },
  "cells": [
    {
      "cell_type": "markdown",
      "metadata": {
        "id": "view-in-github",
        "colab_type": "text"
      },
      "source": [
        "<a href=\"https://colab.research.google.com/github/redfelipefarias/Python-Estudos/blob/main/Aula3_pnt.ipynb\" target=\"_parent\"><img src=\"https://colab.research.google.com/assets/colab-badge.svg\" alt=\"Open In Colab\"/></a>"
      ]
    },
    {
      "cell_type": "code",
      "source": [
        "# ETE CÍCERO DIAS\n",
        "# DOCENTE: CLOVES ROCHA\n",
        "# ESTUDANTE: ...\n",
        "# Tipos Primitivos de Dados em Python\n",
        "#print('Olá imundo!')\n",
        "\n",
        "c = 10\n",
        "print(type(c))"
      ],
      "metadata": {
        "colab": {
          "base_uri": "https://localhost:8080/"
        },
        "id": "jNjLwotegjD-",
        "outputId": "6376be45-ca15-4e97-b43a-46b2e0dd111c"
      },
      "execution_count": null,
      "outputs": [
        {
          "output_type": "stream",
          "name": "stdout",
          "text": [
            "<class 'bool'>\n"
          ]
        }
      ]
    }
  ]
}