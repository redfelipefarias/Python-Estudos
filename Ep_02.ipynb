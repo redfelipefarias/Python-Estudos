{
  "nbformat": 4,
  "nbformat_minor": 0,
  "metadata": {
    "colab": {
      "provenance": [],
      "authorship_tag": "ABX9TyPghBxAVW3+9mjHwscAt4DB",
      "include_colab_link": true
    },
    "kernelspec": {
      "name": "python3",
      "display_name": "Python 3"
    },
    "language_info": {
      "name": "python"
    }
  },
  "cells": [
    {
      "cell_type": "markdown",
      "metadata": {
        "id": "view-in-github",
        "colab_type": "text"
      },
      "source": [
        "<a href=\"https://colab.research.google.com/github/redfelipefarias/Python-Estudos/blob/main/Ep_02.ipynb\" target=\"_parent\"><img src=\"https://colab.research.google.com/assets/colab-badge.svg\" alt=\"Open In Colab\"/></a>"
      ]
    },
    {
      "cell_type": "code",
      "execution_count": 14,
      "metadata": {
        "colab": {
          "base_uri": "https://localhost:8080/"
        },
        "id": "BD-T9dKMLPpO",
        "outputId": "841173b0-76e5-4afe-d4ce-7ae836e457db"
      },
      "outputs": [
        {
          "output_type": "stream",
          "name": "stdout",
          "text": [
            "<class 'int'>\n",
            "<class 'str'>\n",
            "<class 'str'>\n",
            "<class 'tuple'>\n",
            "False\n",
            "True\n"
          ]
        }
      ],
      "source": [
        "# Aula - Ep. #02 - Mini Curso de #IP\n",
        "# Tipos Primitivos de Dados em Python\n",
        "\n",
        "# Tipos Inteiro\n",
        "# Tipos Reais\n",
        "# Tipos Booleanos\n",
        "# Tipos Caracteres (String)\n",
        "\n",
        "a = 2\n",
        "print (type(a))\n",
        "\n",
        "b = 'Lucas'\n",
        "print (type(b))\n",
        "\n",
        "c = \"Felipe\"\n",
        "print (type(c))\n",
        "\n",
        "d = 25,00\n",
        "print (type(d))\n",
        "\n",
        "e = 2\n",
        "f = 3\n",
        "\n",
        "print(e == f)\n",
        "\n",
        "g = 3\n",
        "h = 3\n",
        "\n",
        "print(g == h)"
      ]
    }
  ]
}