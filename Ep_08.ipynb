{
  "nbformat": 4,
  "nbformat_minor": 0,
  "metadata": {
    "colab": {
      "provenance": [],
      "authorship_tag": "ABX9TyMTalhTT83QSg9dyCe0CIh3",
      "include_colab_link": true
    },
    "kernelspec": {
      "name": "python3",
      "display_name": "Python 3"
    },
    "language_info": {
      "name": "python"
    }
  },
  "cells": [
    {
      "cell_type": "markdown",
      "metadata": {
        "id": "view-in-github",
        "colab_type": "text"
      },
      "source": [
        "<a href=\"https://colab.research.google.com/github/redfelipefarias/Python-Estudos/blob/main/Ep_08.ipynb\" target=\"_parent\"><img src=\"https://colab.research.google.com/assets/colab-badge.svg\" alt=\"Open In Colab\"/></a>"
      ]
    },
    {
      "cell_type": "code",
      "execution_count": 3,
      "metadata": {
        "colab": {
          "base_uri": "https://localhost:8080/"
        },
        "id": "sF3bYEyTsym3",
        "outputId": "74532e40-cf46-483c-c9ea-8e8fed86bf22"
      },
      "outputs": [
        {
          "output_type": "stream",
          "name": "stdout",
          "text": [
            "Digite um número: 2003\n",
            "O número 2003 é impar. \n"
          ]
        }
      ],
      "source": [
        "# Aula - Ep. #08 - Mini Curso de #IP\n",
        "# Estruturas Condicionais e Repetições if e else\n",
        "\n",
        "#num = int(input('Digite um número: ' ))\n",
        "#se Condição == verdadeira num % 2 == 6\n",
        " # print(f'O número {num} é par' )\n",
        "#Se não:\n",
        " #print(f'O número {num} é impar')\n",
        "\n",
        "num = int(input('Digite um número: '))\n",
        "if num % 2 == 0:\n",
        "  print(f'O número {num} é par. ')\n",
        "else:\n",
        "  print(f'O número {num} é impar. ')"
      ]
    }
  ]
}