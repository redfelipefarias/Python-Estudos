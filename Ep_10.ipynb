{
  "nbformat": 4,
  "nbformat_minor": 0,
  "metadata": {
    "colab": {
      "provenance": [],
      "authorship_tag": "ABX9TyOYp6McRTnkgf1vwfJox9Fx",
      "include_colab_link": true
    },
    "kernelspec": {
      "name": "python3",
      "display_name": "Python 3"
    },
    "language_info": {
      "name": "python"
    }
  },
  "cells": [
    {
      "cell_type": "markdown",
      "metadata": {
        "id": "view-in-github",
        "colab_type": "text"
      },
      "source": [
        "<a href=\"https://colab.research.google.com/github/redfelipefarias/Python-Estudos/blob/main/Ep_10.ipynb\" target=\"_parent\"><img src=\"https://colab.research.google.com/assets/colab-badge.svg\" alt=\"Open In Colab\"/></a>"
      ]
    },
    {
      "cell_type": "code",
      "execution_count": 5,
      "metadata": {
        "colab": {
          "base_uri": "https://localhost:8080/"
        },
        "id": "0n4Pjc3BzYuT",
        "outputId": "86c0191b-3bc0-4208-c2b8-5b326b7d6142"
      },
      "outputs": [
        {
          "output_type": "stream",
          "name": "stdout",
          "text": [
            "Qual é sua idade? 150\n",
            "Você não é obrigado a votar!\n"
          ]
        }
      ],
      "source": [
        "# Aula - Ep. #10 - Mini Curso de #IP\n",
        "# Operadores Lógicos: and; or; not\n",
        "\n",
        "#Operador and\n",
        "#resposta = int( input('Qual é sua idade'))\n",
        "#if resposta >=18 and resposta <= 65:\n",
        "#   print('Você é obrigado a votar!! ')\n",
        "#else\n",
        "#   print('Você não é obrigado a votar! ')\n",
        "\n",
        "#Operador or\n",
        "#print('1. Idoso')\n",
        "#print('2. Gestante')\n",
        "#print('3. Cadeirante')\n",
        "#print('4. Atendimento comum')\n",
        "\n",
        "\n",
        "resposta = int(input('Qual é sua idade? '))\n",
        "if resposta >=18 and resposta <=65:\n",
        "  print('Voceé obrigado a votar! ')\n",
        "else:\n",
        " print('Você não é obrigado a votar!')"
      ]
    },
    {
      "cell_type": "code",
      "source": [
        "#2operador or\n",
        "print('1.Idoso')\n",
        "print('2. Idoso')\n",
        "print('3. Cadeirante')\n",
        "print('4. Atendimento Comum')\n",
        "resposta = int(input('Selecione uma opção: '))\n",
        "if (resposta==1) or (resposta==2) or (resposta==3):\n",
        "  print('Você tem direito a fila prioritaria')\n",
        "else:\n",
        "  print('Aguarde sua vez na fila comum')\n"
      ],
      "metadata": {
        "colab": {
          "base_uri": "https://localhost:8080/"
        },
        "id": "nso3sxW519gB",
        "outputId": "51a02466-c444-4162-a0a3-023d6fea7c45"
      },
      "execution_count": 12,
      "outputs": [
        {
          "output_type": "stream",
          "name": "stdout",
          "text": [
            "1.Idoso\n",
            "2. Idoso\n",
            "3. Cadeirante\n",
            "4. Atendimento Comum\n",
            "Selecione uma opção: 4\n",
            "Aguarde sua vez na fila comum\n"
          ]
        }
      ]
    },
    {
      "cell_type": "code",
      "source": [
        "#operador not (ele pega uma expressão e a inverte)\n",
        "\n",
        "a = 10\n",
        "b = 9\n",
        "print(not a<b)\n",
        "\n",
        "c = 10\n",
        "d = 9\n",
        "print(not a>b)"
      ],
      "metadata": {
        "colab": {
          "base_uri": "https://localhost:8080/"
        },
        "id": "56_FSahE6ipt",
        "outputId": "bda2f99b-a6cb-4fd6-f49d-91775601c804"
      },
      "execution_count": 14,
      "outputs": [
        {
          "output_type": "stream",
          "name": "stdout",
          "text": [
            "True\n",
            "False\n"
          ]
        }
      ]
    },
    {
      "cell_type": "code",
      "source": [
        "#Outro exemplo not\n",
        "\n",
        "agencia = input('Qual é a sigla da agéncia espacial norte-americana? ')\n",
        "if not agencia=='NASA':\n",
        "  print('ERRADO, tente novamente! ')\n",
        "else:\n",
        "  print('Correto,NASA')"
      ],
      "metadata": {
        "colab": {
          "base_uri": "https://localhost:8080/"
        },
        "id": "0dJYHp-y7eqw",
        "outputId": "4d690e79-094d-499e-ab1a-68bc52a50a70"
      },
      "execution_count": 16,
      "outputs": [
        {
          "output_type": "stream",
          "name": "stdout",
          "text": [
            "Qual é a sigla da agéncia espacial norte-americana? NASA\n",
            "Correto,NASA\n"
          ]
        }
      ]
    },
    {
      "cell_type": "code",
      "source": [],
      "metadata": {
        "id": "E74NaXTz8O81"
      },
      "execution_count": null,
      "outputs": []
    }
  ]
}