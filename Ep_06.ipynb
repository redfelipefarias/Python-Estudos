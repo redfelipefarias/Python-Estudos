{
  "nbformat": 4,
  "nbformat_minor": 0,
  "metadata": {
    "colab": {
      "provenance": [],
      "authorship_tag": "ABX9TyMEaI4kgAueHMq+EFtOW0i7",
      "include_colab_link": true
    },
    "kernelspec": {
      "name": "python3",
      "display_name": "Python 3"
    },
    "language_info": {
      "name": "python"
    }
  },
  "cells": [
    {
      "cell_type": "markdown",
      "metadata": {
        "id": "view-in-github",
        "colab_type": "text"
      },
      "source": [
        "<a href=\"https://colab.research.google.com/github/redfelipefarias/Python-Estudos/blob/main/Ep_06.ipynb\" target=\"_parent\"><img src=\"https://colab.research.google.com/assets/colab-badge.svg\" alt=\"Open In Colab\"/></a>"
      ]
    },
    {
      "cell_type": "code",
      "execution_count": 13,
      "metadata": {
        "colab": {
          "base_uri": "https://localhost:8080/"
        },
        "id": "LNpb70kVnLYS",
        "outputId": "5e522e54-f090-4a7b-a6d0-ed6dbc250e5a"
      },
      "outputs": [
        {
          "output_type": "stream",
          "name": "stdout",
          "text": [
            "Olá Mundo!\n",
            "Olá Mundão!!\n",
            "Olá Mundo!  2 3 4 5 True False\n",
            "O número 2 é par.\n",
            "O número {b} é par.\n"
          ]
        }
      ],
      "source": [
        "# Aula - Ep. #06 - Mini Curso de #IP\n",
        "# Função Print()\n",
        "\n",
        "print('Olá Mundo!')\n",
        "#ou\n",
        "print(\"Olá Mundão!!\")\n",
        "\n",
        "print('Olá Mundo! ' , 2 , 3 , 4 ,5 , True , False)\n",
        "\n",
        "a = 2\n",
        "print(f'O número {a} é par.')\n",
        "\n",
        "#Sem o 'F'(Formatar)\n",
        "\n",
        "b = 4\n",
        "print('O número {b} é par.')\n"
      ]
    }
  ]
}