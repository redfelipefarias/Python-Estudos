{
  "nbformat": 4,
  "nbformat_minor": 0,
  "metadata": {
    "colab": {
      "provenance": [],
      "authorship_tag": "ABX9TyNXYJvE9EIsHhacsyrSiz4f",
      "include_colab_link": true
    },
    "kernelspec": {
      "name": "python3",
      "display_name": "Python 3"
    },
    "language_info": {
      "name": "python"
    }
  },
  "cells": [
    {
      "cell_type": "markdown",
      "metadata": {
        "id": "view-in-github",
        "colab_type": "text"
      },
      "source": [
        "<a href=\"https://colab.research.google.com/github/redfelipefarias/Python-Estudos/blob/main/Cadastro.ipynb\" target=\"_parent\"><img src=\"https://colab.research.google.com/assets/colab-badge.svg\" alt=\"Open In Colab\"/></a>"
      ]
    },
    {
      "cell_type": "code",
      "execution_count": 4,
      "metadata": {
        "colab": {
          "base_uri": "https://localhost:8080/"
        },
        "id": "9HZpxPJUnL_e",
        "outputId": "269576a8-4428-4146-d873-db900c62390e"
      },
      "outputs": [
        {
          "output_type": "stream",
          "name": "stdout",
          "text": [
            "Nome: Lucas \n",
            "Sobrenome: Felipe\n",
            "Idade: 20\n",
            "Seu endereço?: Rua Projetada\n",
            "Seu Sexo: Masculino\n",
            "Olá, meu nome é Lucas  Felipe, tenho 20 anos, moro em Rua Projetada e sou do sexo Masculino.\n"
          ]
        }
      ],
      "source": [
        "class Pessoa:\n",
        "    def __init__(self, nome,sobrenome, idade, endereco, sexo):\n",
        "        self.nome = nome\n",
        "        self.sobrenome = sobrenome\n",
        "        self.idade = idade\n",
        "        self.endereco = endereco\n",
        "        self.sexo = sexo\n",
        "\n",
        "nome = input(\"Nome: \")\n",
        "sobrenome = input('Sobrenome: ')\n",
        "idade = input(\"Idade: \")\n",
        "endereco = input(\"Seu endereço?: \")\n",
        "sexo = input(\"Seu Sexo: \")\n",
        "\n",
        "print(f\"Olá, meu nome é {nome} {sobrenome}, tenho {idade} anos, moro em {endereco} e sou do sexo {sexo}.\")"
      ]
    }
  ]
}