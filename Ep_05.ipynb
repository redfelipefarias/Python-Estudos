{
  "nbformat": 4,
  "nbformat_minor": 0,
  "metadata": {
    "colab": {
      "provenance": [],
      "authorship_tag": "ABX9TyNic16YpdgGAsBpEdniD6K0",
      "include_colab_link": true
    },
    "kernelspec": {
      "name": "python3",
      "display_name": "Python 3"
    },
    "language_info": {
      "name": "python"
    }
  },
  "cells": [
    {
      "cell_type": "markdown",
      "metadata": {
        "id": "view-in-github",
        "colab_type": "text"
      },
      "source": [
        "<a href=\"https://colab.research.google.com/github/redfelipefarias/Python-Estudos/blob/main/Ep_05.ipynb\" target=\"_parent\"><img src=\"https://colab.research.google.com/assets/colab-badge.svg\" alt=\"Open In Colab\"/></a>"
      ]
    },
    {
      "cell_type": "code",
      "execution_count": 6,
      "metadata": {
        "colab": {
          "base_uri": "https://localhost:8080/"
        },
        "id": "FvDYcdc8jSTQ",
        "outputId": "1c744a9d-b4a4-4dd1-9711-f0761acecbf2"
      },
      "outputs": [
        {
          "output_type": "stream",
          "name": "stdout",
          "text": [
            "False\n",
            "True\n",
            "True\n",
            "False\n",
            "True\n",
            "False\n"
          ]
        }
      ],
      "source": [
        "# Aula - Ep. #05 - Mini Curso de #IP\n",
        "# Operadores Relacionais Compostos\n",
        "\n",
        "# >= Maior ou igual a\n",
        "# <= Menor ou igual a\n",
        "# != Diferente de\n",
        "\n",
        "a = 2\n",
        "b = 3\n",
        "print(a >= b)\n",
        "\n",
        "c = 4\n",
        "d = 3\n",
        "print(c >= d)\n",
        "\n",
        "e = 5\n",
        "f = 6\n",
        "print(e<=f)\n",
        "\n",
        "g = 7\n",
        "h = 6\n",
        "print(g<=h)\n",
        "\n",
        "i = 7\n",
        "j = 6\n",
        "print(i!=j)\n",
        "\n",
        "k = 7\n",
        "l = 7\n",
        "print(k!=l)"
      ]
    }
  ]
}