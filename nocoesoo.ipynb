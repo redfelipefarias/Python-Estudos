{
  "nbformat": 4,
  "nbformat_minor": 0,
  "metadata": {
    "colab": {
      "provenance": [],
      "authorship_tag": "ABX9TyPl4+F1vpXVnNV4P+wutF+8",
      "include_colab_link": true
    },
    "kernelspec": {
      "name": "python3",
      "display_name": "Python 3"
    },
    "language_info": {
      "name": "python"
    }
  },
  "cells": [
    {
      "cell_type": "markdown",
      "metadata": {
        "id": "view-in-github",
        "colab_type": "text"
      },
      "source": [
        "<a href=\"https://colab.research.google.com/github/redfelipefarias/Python-Estudos/blob/main/nocoesoo.ipynb\" target=\"_parent\"><img src=\"https://colab.research.google.com/assets/colab-badge.svg\" alt=\"Open In Colab\"/></a>"
      ]
    },
    {
      "cell_type": "code",
      "execution_count": 38,
      "metadata": {
        "colab": {
          "base_uri": "https://localhost:8080/"
        },
        "id": "wAXm7GspHNwt",
        "outputId": "14503337-99a4-4c3f-d760-3a5020e90c64"
      },
      "outputs": [
        {
          "output_type": "execute_result",
          "data": {
            "text/plain": [
              "10"
            ]
          },
          "metadata": {},
          "execution_count": 38
        }
      ],
      "source": [
        "# ETE Cícero Dias\n",
        "# Prof: Cloves\n",
        "# Python Noçôes Orientações Objetos\n",
        "# Estudante: Lucas Felipe\n",
        "\n",
        "class Carro:\n",
        "  def __init__(self):\n",
        "    self._nrodas = 4\n",
        "  def set_nrodas(self, n):\n",
        "    self._nrodas = n\n",
        "gol = Carro()\n",
        "gol._nrodas\n",
        "\n",
        "gol.set_nrodas(10)\n",
        "gol._nrodas\n"
      ]
    },
    {
      "cell_type": "code",
      "source": [
        "class Carro:\n",
        "  def __init__(self):\n",
        "    self._nrodas = 4\n",
        "  def set_nrodas(self, n):\n",
        "    self._nrodas = n\n",
        "gol = Carro()\n",
        "gol._nrodas\n",
        "\n",
        "gol.set_nrodas(10)\n",
        "gol._nrodas"
      ],
      "metadata": {
        "colab": {
          "base_uri": "https://localhost:8080/"
        },
        "id": "n6kjn6LtHU2P",
        "outputId": "2d346c38-487e-406b-8a99-4f5164915073"
      },
      "execution_count": 31,
      "outputs": [
        {
          "output_type": "execute_result",
          "data": {
            "text/plain": [
              "10"
            ]
          },
          "metadata": {},
          "execution_count": 31
        }
      ]
    },
    {
      "cell_type": "code",
      "source": [
        "class Carro:\n",
        "  def __init__(self):\n",
        "    self._nrodas = 4\n",
        "    def set_nrodas(self, n):\n",
        "      self._nrodas = n\n",
        "      gol = Carro()\n",
        "      gol._nrodas\n",
        "\n",
        "      gol.set_nrodas(10)\n",
        "      gol.nrodas"
      ],
      "metadata": {
        "id": "Q7n0aZweMIMz"
      },
      "execution_count": 37,
      "outputs": []
    }
  ]
}