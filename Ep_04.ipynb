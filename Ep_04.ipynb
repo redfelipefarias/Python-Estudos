{
  "nbformat": 4,
  "nbformat_minor": 0,
  "metadata": {
    "colab": {
      "provenance": [],
      "authorship_tag": "ABX9TyPTb7Ug3tu1LdvCcf9/Zmm+",
      "include_colab_link": true
    },
    "kernelspec": {
      "name": "python3",
      "display_name": "Python 3"
    },
    "language_info": {
      "name": "python"
    }
  },
  "cells": [
    {
      "cell_type": "markdown",
      "metadata": {
        "id": "view-in-github",
        "colab_type": "text"
      },
      "source": [
        "<a href=\"https://colab.research.google.com/github/redfelipefarias/Python-Estudos/blob/main/Ep_04.ipynb\" target=\"_parent\"><img src=\"https://colab.research.google.com/assets/colab-badge.svg\" alt=\"Open In Colab\"/></a>"
      ]
    },
    {
      "cell_type": "code",
      "execution_count": 6,
      "metadata": {
        "colab": {
          "base_uri": "https://localhost:8080/"
        },
        "id": "HOHTI_YyS1i3",
        "outputId": "816f7e24-2019-4be7-9a7d-dded676fe1ba"
      },
      "outputs": [
        {
          "output_type": "stream",
          "name": "stdout",
          "text": [
            "True\n",
            "False\n",
            "False\n",
            "True\n",
            "False\n",
            "False\n",
            "True\n"
          ]
        }
      ],
      "source": [
        "# Aula - Ep. #04 - Mini Curso de #IP\n",
        "# Operadores Relacionais Simples\n",
        "\n",
        "# > Maior que\n",
        "# < Menor que\n",
        "# == Igual a (Comparação)\n",
        "\n",
        "a = 3>2\n",
        "print(a)\n",
        "\n",
        "b = 3<2\n",
        "print(b)\n",
        "\n",
        "c = 3==2\n",
        "print(c)\n",
        "\n",
        "d = 3==3\n",
        "print(d)\n",
        "\n",
        "e = 3.1==3\n",
        "print(e)\n",
        "\n",
        "f = 3.1==3.19\n",
        "print(f)\n",
        "\n",
        "g = 3.1==3.1\n",
        "print(g)"
      ]
    }
  ]
}