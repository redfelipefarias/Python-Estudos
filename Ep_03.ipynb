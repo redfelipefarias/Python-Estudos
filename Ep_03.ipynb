{
  "nbformat": 4,
  "nbformat_minor": 0,
  "metadata": {
    "colab": {
      "provenance": [],
      "authorship_tag": "ABX9TyMRG4Ha4LxhCu0uk3387zxL",
      "include_colab_link": true
    },
    "kernelspec": {
      "name": "python3",
      "display_name": "Python 3"
    },
    "language_info": {
      "name": "python"
    }
  },
  "cells": [
    {
      "cell_type": "markdown",
      "metadata": {
        "id": "view-in-github",
        "colab_type": "text"
      },
      "source": [
        "<a href=\"https://colab.research.google.com/github/redfelipefarias/Python-Estudos/blob/main/Ep_03.ipynb\" target=\"_parent\"><img src=\"https://colab.research.google.com/assets/colab-badge.svg\" alt=\"Open In Colab\"/></a>"
      ]
    },
    {
      "cell_type": "code",
      "execution_count": 9,
      "metadata": {
        "colab": {
          "base_uri": "https://localhost:8080/"
        },
        "id": "JZERDLZEPxj-",
        "outputId": "7a0d0876-965c-48e3-a1a0-cebf9924e01a"
      },
      "outputs": [
        {
          "output_type": "stream",
          "name": "stdout",
          "text": [
            "8\n",
            "3\n",
            "3.3333333333333335\n",
            "1\n",
            "6\n",
            "-1\n",
            "12100\n"
          ]
        }
      ],
      "source": [
        "# Aula - Ep. #03 Mini Curso de #IP\n",
        "# Operadores Aritméticos em Python\n",
        "#GitHub do Mini Curso: https://github.com/clovesrocha/minicursoip\n",
        "\n",
        "# +\n",
        "# -\n",
        "# *\n",
        "# /\n",
        "# **\n",
        "# //\n",
        "# %\n",
        "\n",
        "a = 2**3\n",
        "print(a)\n",
        "\n",
        "b = 10//3\n",
        "print(b)\n",
        "\n",
        "c = 10/3\n",
        "print(c)\n",
        "\n",
        "d = 10%3\n",
        "print(d)\n",
        "\n",
        "e = 3+3\n",
        "print(e)\n",
        "\n",
        "f = 10-11\n",
        "print(f)\n",
        "\n",
        "g = 121*100\n",
        "print(g)"
      ]
    },
    {
      "cell_type": "code",
      "source": [],
      "metadata": {
        "id": "JqOWU36RP_V6"
      },
      "execution_count": null,
      "outputs": []
    }
  ]
}