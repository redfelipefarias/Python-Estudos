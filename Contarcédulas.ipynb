{
  "nbformat": 4,
  "nbformat_minor": 0,
  "metadata": {
    "colab": {
      "provenance": [],
      "authorship_tag": "ABX9TyP/pU9O+JiSvHWeRVwj1OB0",
      "include_colab_link": true
    },
    "kernelspec": {
      "name": "python3",
      "display_name": "Python 3"
    },
    "language_info": {
      "name": "python"
    }
  },
  "cells": [
    {
      "cell_type": "markdown",
      "metadata": {
        "id": "view-in-github",
        "colab_type": "text"
      },
      "source": [
        "<a href=\"https://colab.research.google.com/github/redfelipefarias/Python-Estudos/blob/main/Contarc%C3%A9dulas.ipynb\" target=\"_parent\"><img src=\"https://colab.research.google.com/assets/colab-badge.svg\" alt=\"Open In Colab\"/></a>"
      ]
    },
    {
      "cell_type": "code",
      "execution_count": 1,
      "metadata": {
        "colab": {
          "base_uri": "https://localhost:8080/"
        },
        "id": "dT4BYkzhQXQ2",
        "outputId": "3ca1b309-4f20-4994-c521-e17c138d24bd"
      },
      "outputs": [
        {
          "output_type": "stream",
          "name": "stdout",
          "text": [
            "Digite quanto dinheiro você pegou: 50\n",
            "Foram usadas 0 notas de 100, 1 notas de 50, 0 notas de 20 e 0\n",
            "Digite quanto dinheiro você pegou: 98\n",
            "Foram usadas 0 notas de 100, 1 notas de 50, 2 notas de 20 e 0\n"
          ]
        }
      ],
      "source": [
        "#Primeiro Modo\n",
        "dinheiro = int(input(\"Digite quanto dinheiro você pegou: \"))\n",
        "nota100 = dinheiro//100#abc\n",
        "nota50= (dinheiro-nota100*100)//50\n",
        "nota20= (dinheiro-nota100*100-nota50*50)//20\n",
        "nota10= (dinheiro-nota100*100-nota50*50-nota20*20)//10\n",
        "print(f\"Foram usadas {nota100} notas de 100, {nota50:} notas de 50, {nota20:} notas de 20\"\n",
        "      f\" e {nota10}\")\n",
        "\n",
        "#Segundo Modo\n",
        "dinheiro = int(input(\"Digite quanto dinheiro você pegou: \"))\n",
        "nota100 = dinheiro//100\n",
        "dinheiro = dinheiro % 100\n",
        "nota50= dinheiro//50\n",
        "dinheiro = dinheiro % 50\n",
        "nota20= dinheiro // 20\n",
        "dinheiro = dinheiro % 20\n",
        "nota10= dinheiro // 10\n",
        "dinheiro = dinheiro % 10\n",
        "print(f\"Foram usadas {nota100} notas de 100, {nota50:} notas de 50, {nota20} notas de 20\"\n",
        "      f\" e {nota10}\")"
      ]
    }
  ]
}