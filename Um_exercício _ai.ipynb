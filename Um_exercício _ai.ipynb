{
  "nbformat": 4,
  "nbformat_minor": 0,
  "metadata": {
    "colab": {
      "provenance": [],
      "authorship_tag": "ABX9TyNI/ufyHj2vkQVVCc4M5POr",
      "include_colab_link": true
    },
    "kernelspec": {
      "name": "python3",
      "display_name": "Python 3"
    },
    "language_info": {
      "name": "python"
    }
  },
  "cells": [
    {
      "cell_type": "markdown",
      "metadata": {
        "id": "view-in-github",
        "colab_type": "text"
      },
      "source": [
        "<a href=\"https://colab.research.google.com/github/redfelipefarias/Python-Estudos/blob/main/Um_exerc%C3%ADcio%20_ai.ipynb\" target=\"_parent\"><img src=\"https://colab.research.google.com/assets/colab-badge.svg\" alt=\"Open In Colab\"/></a>"
      ]
    },
    {
      "cell_type": "code",
      "execution_count": 1,
      "metadata": {
        "colab": {
          "base_uri": "https://localhost:8080/",
          "height": 383
        },
        "id": "FZa36h1W62DL",
        "outputId": "f3cd1742-74f2-4bd3-9b72-1272b13bc1f5"
      },
      "outputs": [
        {
          "name": "stdout",
          "output_type": "stream",
          "text": [
            "Aluno, Insira seu email ou nome do usuário: felipefarias\n",
            "Agora, digite sua senha: 0198928\n",
            "Informe o título: 828281\n",
            "Digite o assunto: Ta dando tudo certo\n",
            "Informe o seu nome: Lucas Felipe de farias\n",
            "Digite sua Data de Nascimento: 24082003\n",
            "Informe o sexo: Masculino\n",
            "Digite um nome para o usuário: Redfelipefarias\n"
          ]
        },
        {
          "output_type": "error",
          "ename": "AttributeError",
          "evalue": "ignored",
          "traceback": [
            "\u001b[0;31m---------------------------------------------------------------------------\u001b[0m",
            "\u001b[0;31mAttributeError\u001b[0m                            Traceback (most recent call last)",
            "\u001b[0;32m<ipython-input-1-5c97600cfc20>\u001b[0m in \u001b[0;36m<cell line: 30>\u001b[0;34m()\u001b[0m\n\u001b[1;32m     28\u001b[0m \u001b[0mdata_nascimento\u001b[0m \u001b[0;34m=\u001b[0m \u001b[0mint\u001b[0m\u001b[0;34m(\u001b[0m\u001b[0minput\u001b[0m\u001b[0;34m(\u001b[0m\u001b[0;34m\"Digite sua Data de Nascimento: \"\u001b[0m\u001b[0;34m)\u001b[0m\u001b[0;34m)\u001b[0m\u001b[0;34m\u001b[0m\u001b[0;34m\u001b[0m\u001b[0m\n\u001b[1;32m     29\u001b[0m \u001b[0msexo\u001b[0m \u001b[0;34m=\u001b[0m \u001b[0minput\u001b[0m\u001b[0;34m(\u001b[0m\u001b[0;34m\"Informe o sexo: \"\u001b[0m\u001b[0;34m)\u001b[0m\u001b[0;34m\u001b[0m\u001b[0;34m\u001b[0m\u001b[0m\n\u001b[0;32m---> 30\u001b[0;31m \u001b[0mid\u001b[0m\u001b[0;34m.\u001b[0m\u001b[0musuario\u001b[0m \u001b[0;34m=\u001b[0m \u001b[0minput\u001b[0m\u001b[0;34m(\u001b[0m\u001b[0;34m\"Digite um nome para o usuário: \"\u001b[0m\u001b[0;34m)\u001b[0m\u001b[0;34m\u001b[0m\u001b[0;34m\u001b[0m\u001b[0m\n\u001b[0m\u001b[1;32m     31\u001b[0m \u001b[0msenha\u001b[0m \u001b[0;34m=\u001b[0m \u001b[0minput\u001b[0m\u001b[0;34m(\u001b[0m\u001b[0;34m\"Crie uma senha: \"\u001b[0m\u001b[0;34m)\u001b[0m\u001b[0;34m\u001b[0m\u001b[0;34m\u001b[0m\u001b[0m\n\u001b[1;32m     32\u001b[0m \u001b[0memail\u001b[0m \u001b[0;34m=\u001b[0m \u001b[0minput\u001b[0m\u001b[0;34m(\u001b[0m\u001b[0;34m\"Informe o seu email: \"\u001b[0m\u001b[0;34m)\u001b[0m\u001b[0;34m\u001b[0m\u001b[0;34m\u001b[0m\u001b[0m\n",
            "\u001b[0;31mAttributeError\u001b[0m: 'builtin_function_or_method' object has no attribute 'usuario'"
          ]
        }
      ],
      "source": [
        "class LoginAluno:\n",
        "  def __init__ (self, id_usuario, senha):\n",
        "    self.id_usuario = id_usuario\n",
        "    self.senha = senha\n",
        "\n",
        "id_usuario = input(\"Aluno, Insira seu email ou nome do usuário: \")\n",
        "senha = input(\"Agora, digite sua senha: \")\n",
        "\n",
        "\n",
        "class Forum:\n",
        "  def __init__(self, titulo, descricao):\n",
        "    self.titulo = titulo\n",
        "    self.descricao = descricao\n",
        "\n",
        "titulo = input(\"Informe o título: \")\n",
        "descricao = input(\"Digite o assunto: \")\n",
        "\n",
        "class CadastroAluno:\n",
        "  def __init__ (self, nomealuno, data_nascimentoaluno, sexoaluno, emailaluno, id_usuarioaluno):\n",
        "    self.nomealuno = nomealuno\n",
        "    self.data_nascimentoaluno = data_nascimentoaluno\n",
        "    self.sexoaluno = sexoaluno\n",
        "    self.id_usuarioaluno = id_usuarioaluno\n",
        "    self.senhaaluno = self.senhaaluno\n",
        "    self.emailaluno = email\n",
        "\n",
        "nome = input(\"Informe o seu nome: \")\n",
        "data_nascimento = int(input(\"Digite sua Data de Nascimento: \"))\n",
        "sexo = input(\"Informe o sexo: \")\n",
        "id.usuario = input(\"Digite um nome para o usuário: \")\n",
        "senha = input(\"Crie uma senha: \")\n",
        "email = input(\"Informe o seu email: \")\n",
        "\n",
        "class LoginProf:\n",
        "    def __init__(self, id_prof, senhap):\n",
        "      self.id_prof = id_usuario\n",
        "      self.senhap = senha\n",
        "\n",
        "id_prof = (\"Professor, Insira seu email ou nome do usuário: \")\n",
        "senhap = (\"Agora, digite sua senha: \")\n",
        "\n",
        "class CadastroProf:\n",
        "  def __init__ (self, nomeprof, data_nascimentoprof, sexoprof, emailprof, id_usuarioprof, senhaprof):\n",
        "    self.nomeprof = nomeprof\n",
        "    self.data_nascimentoprof = data_nascimentoprof\n",
        "    self.sexoprof = sexoprof\n",
        "    self.id_usuarioprof = id_usuarioprof\n",
        "    self.senhaprof = senhaprof\n",
        "    self.emailprof = emailprof\n",
        "\n",
        "nomeprof = input(\"Informe o seu nome: \")\n",
        "data_nascimentoprof = int(input(\"Digite sua Data de Nascimento: \"))\n",
        "sexoprof = input(\"Informe o sexo: \")\n",
        "id.usuarioprof = input(\"Digite um nome para o usuário: \")\n",
        "senhaprof = input(\"Crie uma senha: \")\n",
        "emailprof = input(\"Informe o seu email: \")"
      ]
    }
  ]
}