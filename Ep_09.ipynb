{
  "nbformat": 4,
  "nbformat_minor": 0,
  "metadata": {
    "colab": {
      "provenance": [],
      "authorship_tag": "ABX9TyPcpU1bUiAFh+zDhw74apq+",
      "include_colab_link": true
    },
    "kernelspec": {
      "name": "python3",
      "display_name": "Python 3"
    },
    "language_info": {
      "name": "python"
    }
  },
  "cells": [
    {
      "cell_type": "markdown",
      "metadata": {
        "id": "view-in-github",
        "colab_type": "text"
      },
      "source": [
        "<a href=\"https://colab.research.google.com/github/redfelipefarias/Python-Estudos/blob/main/Ep_09.ipynb\" target=\"_parent\"><img src=\"https://colab.research.google.com/assets/colab-badge.svg\" alt=\"Open In Colab\"/></a>"
      ]
    },
    {
      "cell_type": "code",
      "execution_count": 1,
      "metadata": {
        "colab": {
          "base_uri": "https://localhost:8080/"
        },
        "id": "gmt2zg1mv7wN",
        "outputId": "a536e922-bc33-41b2-f9a6-4aec9a177bbd"
      },
      "outputs": [
        {
          "output_type": "stream",
          "name": "stdout",
          "text": [
            "Digite uma nota102030405060708090\n",
            "Este número é Positivo\n"
          ]
        }
      ],
      "source": [
        "# Aula - Ep. #09 - Mini Curso De #IP\n",
        "# Estruturas Condicionais Aninhadas e o Elif\n",
        "\n",
        "#num = float(input('Digite um número: '))\n",
        "#if num > 0:\n",
        "#   print('Este número é positivo')\n",
        "#elif num == 0:\n",
        "#   print('Este número é neutro')\n",
        "#esle:\n",
        "#   print('Este número é negativo')\n",
        "\n",
        "num = float(input('Digite uma nota'))\n",
        "if num > 0:\n",
        "  print('Este número é Positivo')\n",
        "elif num == 0:\n",
        "  print('Este número é Neutro')\n",
        "else:\n",
        "  print('Este número é negativo')\n"
      ]
    },
    {
      "cell_type": "code",
      "source": [
        "nota = float(input('Digite uma nota'))\n",
        "if nota >+ 6:\n",
        "  print('Este nota é Positiva')\n",
        "elif nota == 6:\n",
        "  print('Este nota é regular')\n",
        "else:\n",
        "  print('Este nota é negativo')"
      ],
      "metadata": {
        "colab": {
          "base_uri": "https://localhost:8080/"
        },
        "id": "4HyukGP5yiv8",
        "outputId": "de79563f-2454-4d01-9903-4435eaf8d481"
      },
      "execution_count": 5,
      "outputs": [
        {
          "output_type": "stream",
          "name": "stdout",
          "text": [
            "Digite uma nota10\n",
            "Este nota é Positiva\n"
          ]
        }
      ]
    },
    {
      "cell_type": "code",
      "source": [
        "\n"
      ],
      "metadata": {
        "id": "iZv_yMxdwYKf"
      },
      "execution_count": null,
      "outputs": []
    }
  ]
}