{
  "nbformat": 4,
  "nbformat_minor": 0,
  "metadata": {
    "colab": {
      "provenance": [],
      "authorship_tag": "ABX9TyPrzA+b0xs1IDZPwfUqnh5g",
      "include_colab_link": true
    },
    "kernelspec": {
      "name": "python3",
      "display_name": "Python 3"
    },
    "language_info": {
      "name": "python"
    }
  },
  "cells": [
    {
      "cell_type": "markdown",
      "metadata": {
        "id": "view-in-github",
        "colab_type": "text"
      },
      "source": [
        "<a href=\"https://colab.research.google.com/github/redfelipefarias/Python-Estudos/blob/main/Untitled6.ipynb\" target=\"_parent\"><img src=\"https://colab.research.google.com/assets/colab-badge.svg\" alt=\"Open In Colab\"/></a>"
      ]
    },
    {
      "cell_type": "code",
      "execution_count": null,
      "metadata": {
        "id": "vu-2TCWwpQQA"
      },
      "outputs": [],
      "source": [
        "class Custo:\n",
        "  def __init__(self, valor, banco, agencia, conta):\n",
        "    self.valor = valor\n",
        "    self.banco = banco\n",
        "    self.agencia = agencia\n",
        "    self.conta = conta\n",
        "\n",
        "valor = input('R$:')\n",
        "banco = input('Banco: ')\n",
        "agencia = input('Número da Agencia: ')\n",
        "conta = input('Número da conta: ')\n",
        "\n",
        "print(f'Ficará no total de R${valor}Reais')\n",
        "print(Banco {banco}'\\n')\n",
        "print()"
      ]
    }
  ]
}