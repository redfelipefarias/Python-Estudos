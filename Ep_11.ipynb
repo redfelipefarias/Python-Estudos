{
  "nbformat": 4,
  "nbformat_minor": 0,
  "metadata": {
    "colab": {
      "provenance": [],
      "authorship_tag": "ABX9TyM+5SJ+vI/CO5k6jh6ohRIa",
      "include_colab_link": true
    },
    "kernelspec": {
      "name": "python3",
      "display_name": "Python 3"
    },
    "language_info": {
      "name": "python"
    }
  },
  "cells": [
    {
      "cell_type": "markdown",
      "metadata": {
        "id": "view-in-github",
        "colab_type": "text"
      },
      "source": [
        "<a href=\"https://colab.research.google.com/github/redfelipefarias/Python-Estudos/blob/main/Ep_11.ipynb\" target=\"_parent\"><img src=\"https://colab.research.google.com/assets/colab-badge.svg\" alt=\"Open In Colab\"/></a>"
      ]
    },
    {
      "cell_type": "code",
      "execution_count": 7,
      "metadata": {
        "colab": {
          "base_uri": "https://localhost:8080/"
        },
        "id": "fdAegOgP8iJ4",
        "outputId": "f02d8b13-7c15-484c-c325-a189f009f718"
      },
      "outputs": [
        {
          "output_type": "stream",
          "name": "stdout",
          "text": [
            "Digite um número: 99\n",
            "99 está entre um e 99.\n"
          ]
        }
      ],
      "source": [
        "#Aula - Ep. #11 - Mini Curso de #IP\n",
        "# Funçao range(), operadores in e not in\n",
        "\n",
        "a = int(input('Digite um número: '))\n",
        "if a in range(1, 100, 2):\n",
        "  print(f'{a} está entre um e 99.')\n",
        "else:\n",
        "  print(f'{a} não está entre 1 e 99. ')\n"
      ]
    },
    {
      "cell_type": "code",
      "source": [],
      "metadata": {
        "id": "iKicaiUm_vzS"
      },
      "execution_count": null,
      "outputs": []
    }
  ]
}