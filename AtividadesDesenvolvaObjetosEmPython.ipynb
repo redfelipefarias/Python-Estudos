{
  "nbformat": 4,
  "nbformat_minor": 0,
  "metadata": {
    "colab": {
      "provenance": [],
      "authorship_tag": "ABX9TyNhGncSTXxJjqgCKaBnILuY",
      "include_colab_link": true
    },
    "kernelspec": {
      "name": "python3",
      "display_name": "Python 3"
    },
    "language_info": {
      "name": "python"
    }
  },
  "cells": [
    {
      "cell_type": "markdown",
      "metadata": {
        "id": "view-in-github",
        "colab_type": "text"
      },
      "source": [
        "<a href=\"https://colab.research.google.com/github/redfelipefarias/Python-Estudos/blob/main/AtividadesDesenvolvaObjetosEmPython.ipynb\" target=\"_parent\"><img src=\"https://colab.research.google.com/assets/colab-badge.svg\" alt=\"Open In Colab\"/></a>"
      ]
    },
    {
      "cell_type": "code",
      "execution_count": 4,
      "metadata": {
        "colab": {
          "base_uri": "https://localhost:8080/"
        },
        "id": "9HZpxPJUnL_e",
        "outputId": "269576a8-4428-4146-d873-db900c62390e"
      },
      "outputs": [
        {
          "output_type": "stream",
          "name": "stdout",
          "text": [
            "Nome: Lucas \n",
            "Sobrenome: Felipe\n",
            "Idade: 20\n",
            "Seu endereço?: Rua Projetada\n",
            "Seu Sexo: Masculino\n",
            "Olá, meu nome é Lucas  Felipe, tenho 20 anos, moro em Rua Projetada e sou do sexo Masculino.\n"
          ]
        }
      ],
      "source": [
        "class Pessoa:\n",
        "    def __init__(self, nome,sobrenome, idade, endereco, sexo):\n",
        "        self.nome = nome\n",
        "        self.sobrenome = sobrenome\n",
        "        self.idade = idade\n",
        "        self.endereco = endereco\n",
        "        self.sexo = sexo\n",
        "\n",
        "nome = input(\"Nome: \")\n",
        "sobrenome = input('Sobrenome: ')\n",
        "idade = input(\"Idade: \")\n",
        "endereco = input(\"Seu endereço?: \")\n",
        "sexo = input(\"Seu Sexo: \")\n",
        "\n",
        "print(f\"Olá, meu nome é {nome} {sobrenome}, tenho {idade} anos, moro em {endereco} e sou do sexo {sexo}.\")"
      ]
    },
    {
      "cell_type": "code",
      "source": [
        "class Cadastro:\n",
        "  def __init__(self,nome,sobrenome,idade,genero,cpf,numero):\n",
        "    self.nome = nome\n",
        "    self.sobrenome = sobrenome\n",
        "    self.idade = idade\n",
        "    self.genero = genero\n",
        "    self.cpf = cpf\n",
        "    self.numero = numero\n",
        "print('CADASTRO DO IDOSO')\n",
        "nome = input('Nome: ')\n",
        "sobrenome = input('Sobrenome: ')\n",
        "idade= int(input('Idade: '))\n",
        "genero = input('Homem ou Mulher? ')\n",
        "cpf = input('CPF: ')\n",
        "numero = int(input('Número para Contato: '))\n",
        "\n",
        "print(nome,sobrenome)\n",
        "print(idade,'anos')\n",
        "print(genero)\n",
        "print(cpf)\n",
        "print('Contato:', numero)\n"
      ],
      "metadata": {
        "colab": {
          "base_uri": "https://localhost:8080/"
        },
        "id": "N0wURbtLovtW",
        "outputId": "d4b001a1-6693-4f2d-eb09-dfd94257b1e5"
      },
      "execution_count": 10,
      "outputs": [
        {
          "output_type": "stream",
          "name": "stdout",
          "text": [
            "CADASTRO DO IDOSO\n",
            "Nome: Fulano\n",
            "Sobrenome: Beltrano\n",
            "Idade: 200\n",
            "Homem ou Mulher? Homem\n",
            "CPF: 392.203.232-12\n",
            "Número para Contato: 81985434521\n",
            "Fulano Beltrano\n",
            "200 anos\n",
            "Homem\n",
            "392.203.232-12\n",
            "Contato: 81985434521\n"
          ]
        }
      ]
    },
    {
      "cell_type": "code",
      "source": [
        "class Perfil_do_cuidador:\n",
        "  def __init__(self, contratar, idade, genero, escolaridade, experiencia, preferencia):\n",
        "      self.contratar = contratar\n",
        "      self.idade = idade\n",
        "      self.genero = genero\n",
        "      self.escolaridade = escolaridade\n",
        "      self.experiencia = experiencia\n",
        "      self.preferencia = preferencia\n",
        "\n",
        "  contratar = input(\"Você contrataria um cuidador ou acompanhante? \")\n",
        "  idade = input(\"Qual sua preferência de idade? \")\n",
        "  genero = input(\"Qual sua preferência de gênero? \")\n",
        "  escolaridade = input(\"Qual escolaridade do cuidador ou acompanhante você deseja? \")\n",
        "  experiencia = input(\"O cuidador ou acompanhante necessita de experiencia? \")\n",
        "  preferencia = input(\"Qual sua preferência de perfil para um cuidador ou acompanhante? Exemplo: Calmo, Introvertido, extrovertido, etc. . .: \")\n",
        "\n",
        "  print(f\"{contratar}, {idade}, {genero}, {escolaridade}, {experiencia}, {preferencia}.\")"
      ],
      "metadata": {
        "colab": {
          "base_uri": "https://localhost:8080/"
        },
        "id": "xFGEfSMNsvca",
        "outputId": "c811572c-6894-43ee-890e-242b4d220849"
      },
      "execution_count": 11,
      "outputs": [
        {
          "output_type": "stream",
          "name": "stdout",
          "text": [
            "Você contrataria um cuidador ou acompanhante? Sim\n",
            "Qual sua preferência de idade? 30 a 50 anos\n",
            "Qual sua preferência de gênero? Feminino\n",
            "Qual escolaridade do cuidador ou acompanhante você deseja? Ensino Médio ou certificado de cuidador de idosos\n",
            "O cuidador ou acompanhante necessita de experiencia? Sim\n",
            "Qual sua preferência de perfil para um cuidador ou acompanhante? Exemplo: Calmo, Introvertido, extrovertido, etc. . .: Calmo\n",
            "Sim, 30 a 50 anos, Feminino, Ensino Médio ou certificado de cuidador de idosos, Sim, Calmo.\n"
          ]
        }
      ]
    },
    {
      "cell_type": "code",
      "source": [
        "class Formas_de_pagamento:\n",
        "  def __init__(self, valor, banco, agencia, conta, continuar):\n",
        "      self.valor = valor\n",
        "      self.banco = banco\n",
        "      self.agencia = agencia\n",
        "      self.conta = conta\n",
        "      self.continuar = continuar\n",
        "\n",
        "print('Forma de Pagameto: \\n')\n",
        "\n",
        "valor = input(\"R$\")\n",
        "banco = input(\"Banco: \")\n",
        "agencia = input(\"Agência: \")\n",
        "conta = input('Número da Conta: ')\n",
        "\n",
        "print(f\"O valor total é {valor}, o banco é {banco}, sua agência é {agencia} e sua conta é {conta}.\")\n",
        "\n",
        "continuar = input('Deseja continuar com o pagamento?\\n[S] para SIM ou [N]para NÃO: ')\n",
        "\n",
        "if continuar ==('S'):\n",
        "  print('PAGAMENTO BEM-SUCEDIDO:1')\n",
        "\n",
        "else:\n",
        "  print('Pagamento cancelado com-sucesso')\n",
        "\n",
        "\n",
        "\n"
      ],
      "metadata": {
        "colab": {
          "base_uri": "https://localhost:8080/"
        },
        "id": "fqZ74Lm8tgHK",
        "outputId": "31fd4219-5d32-4fce-853c-3e9f4284a984"
      },
      "execution_count": 28,
      "outputs": [
        {
          "output_type": "stream",
          "name": "stdout",
          "text": [
            "Forma de Pagameto: \n",
            "\n",
            "R$999999\n",
            "Banco: BRAITAU\n",
            "Agência: 28\n",
            "Número da Conta: 9837282\n",
            "O valor total é 999999, o banco é BRAITAU, sua agência é 28 e sua conta é 9837282.\n",
            "Deseja continuar com o pagamento?\n",
            "[S] para SIM ou [N]para NÃO: S\n",
            "PAGAMENTO BEM-SUCEDIDO:1\n"
          ]
        }
      ]
    },
    {
      "cell_type": "code",
      "source": [
        "class Feedback:\n",
        "  def __init__(self, experiencia, qualidade, contrataria, nota):\n",
        "    self.experiencia = experiencia\n",
        "    self.qualidade = qualidade\n",
        "    self.nota = nota\n",
        "    self.contrataria = contrataria\n",
        "\n",
        "experiencia = input(\"Qual foi sua experiência com o cuidador ou acompanhante? \")\n",
        "qualidade = input(\"O que você achou do serviço? \")\n",
        "nota = input(\"Qual nota de 1 a 10 você daria ao nosso serviço? \")\n",
        "contrataria = input(\"Você contrataria pelo nosso serviço novamente? \")\n",
        "\n",
        "print(f\"Sua experiencia foi {experiencia}, a qualidade do serviço foi {qualidade}, a nota do serviço é {nota}, você contrataria novamente? {contrataria}.\")\n",
        "\n"
      ],
      "metadata": {
        "colab": {
          "base_uri": "https://localhost:8080/"
        },
        "id": "V8iSjTqL5LXp",
        "outputId": "bb25941f-f31b-462b-9b11-2056bd447cbe"
      },
      "execution_count": 31,
      "outputs": [
        {
          "output_type": "stream",
          "name": "stdout",
          "text": [
            "Qual foi sua experiência com o cuidador ou acompanhante? 8,0\n",
            "O que você achou do serviço? 9,0\n",
            "Qual nota de 1 a 10 você daria ao nosso serviço? 10\n",
            "Você contrataria pelo nosso serviço novamente? SIM\n",
            "Sua experiencia foi 8,0, a qualidade do serviço foi 9,0, a nota do serviço é 10, você contrataria novamente? SIM.\n"
          ]
        }
      ]
    }
  ]
}